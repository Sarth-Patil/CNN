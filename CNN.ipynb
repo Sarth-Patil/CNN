{
 "cells": [
  {
   "cell_type": "code",
   "execution_count": 5,
   "metadata": {},
   "outputs": [],
   "source": [
    "import os,cv2\n",
    "import numpy as np\n",
    "import matplotlib.pyplot as plt\n",
    "from sklearn.utils import shuffle\n",
    "from sklearn.cross_validation import train_test_split\n",
    "from keras import backend as K"
   ]
  },
  {
   "cell_type": "code",
   "execution_count": 6,
   "metadata": {},
   "outputs": [],
   "source": [
    "K.set_image_dim_ordering('th')"
   ]
  },
  {
   "cell_type": "code",
   "execution_count": 7,
   "metadata": {},
   "outputs": [],
   "source": [
    "from keras.utils import np_utils\n",
    "from keras.models import Sequential\n",
    "from keras.layers.core import Dense, Dropout, Activation, Flatten\n",
    "from keras.layers.convolutional import Convolution2D, MaxPooling2D\n",
    "from keras.optimizers import SGD,RMSprop,adam"
   ]
  },
  {
   "cell_type": "code",
   "execution_count": null,
   "metadata": {},
   "outputs": [],
   "source": []
  },
  {
   "cell_type": "code",
   "execution_count": 8,
   "metadata": {},
   "outputs": [
    {
     "name": "stdout",
     "output_type": "stream",
     "text": [
      "['dog', 'teddy']\n"
     ]
    }
   ],
   "source": [
    "PATH = os.getcwd()\n",
    "data_path = PATH + '/data' # dir containing dataset\n",
    "data_dir_list = os.listdir(data_path) # subdirectories (classes itself)\n",
    "print(data_dir_list)"
   ]
  },
  {
   "cell_type": "code",
   "execution_count": 9,
   "metadata": {},
   "outputs": [
    {
     "name": "stdout",
     "output_type": "stream",
     "text": [
      "Loaded the images of dataset-dog\n",
      "\n",
      "Loaded the images of dataset-teddy\n",
      "\n",
      "(82, 128, 128)\n"
     ]
    }
   ],
   "source": [
    "# number of classes\n",
    "num_classes = 2\n",
    "# Loading dataset\n",
    "img_data_list=[]\n",
    "\n",
    "for dataset in data_dir_list:\n",
    "    img_list=os.listdir(data_path+'/'+ dataset)\n",
    "    print ('Loaded the images of dataset-'+'{}\\n'.format(dataset))\n",
    "    for img in img_list:\n",
    "        input_img=cv2.imread(data_path + '/'+ dataset + '/'+ img )\n",
    "        input_img=cv2.cvtColor(input_img, cv2.COLOR_BGR2GRAY)\n",
    "        input_img_resize=cv2.resize(input_img,(128,128))\n",
    "        img_data_list.append(input_img_resize)\n",
    "\n",
    "img_data = np.array(img_data_list)\n",
    "img_data = img_data.astype('float32')\n",
    "img_data /= 255\n",
    "print (img_data.shape)"
   ]
  },
  {
   "cell_type": "code",
   "execution_count": 10,
   "metadata": {},
   "outputs": [
    {
     "name": "stdout",
     "output_type": "stream",
     "text": [
      "(82, 1, 128, 128)\n"
     ]
    },
    {
     "data": {
      "text/plain": [
       "\"\\nif ordering as theano's 'th' (no. of channels comes at axis=1 i.e. 2nd pos.)\\nif it's tensorflow's 'tf' (no. of channels comes at axis=4 i.e. 5th pos.))\\nOrdering is already set to 'th'\\n\""
      ]
     },
     "execution_count": 10,
     "metadata": {},
     "output_type": "execute_result"
    }
   ],
   "source": [
    "if K.image_dim_ordering()=='th':\n",
    "    img_data= np.expand_dims(img_data, axis=1) \n",
    "    print (img_data.shape)\n",
    "else:\n",
    "    img_data= np.expand_dims(img_data, axis=4) \n",
    "    print (img_data.shape)\n",
    "'''\n",
    "if ordering as theano's 'th' (no. of channels comes at axis=1 i.e. 2nd pos.)\n",
    "if it's tensorflow's 'tf' (no. of channels comes at axis=4 i.e. 5th pos.))\n",
    "Ordering is already set to 'th'\n",
    "'''\n",
    "\n",
    "        "
   ]
  },
  {
   "cell_type": "code",
   "execution_count": 11,
   "metadata": {},
   "outputs": [
    {
     "name": "stdout",
     "output_type": "stream",
     "text": [
      "[[1. 0.]\n",
      " [1. 0.]\n",
      " [1. 0.]\n",
      " [1. 0.]\n",
      " [1. 0.]\n",
      " [1. 0.]\n",
      " [1. 0.]\n",
      " [1. 0.]\n",
      " [1. 0.]\n",
      " [1. 0.]\n",
      " [1. 0.]\n",
      " [1. 0.]\n",
      " [1. 0.]\n",
      " [1. 0.]\n",
      " [1. 0.]\n",
      " [1. 0.]\n",
      " [1. 0.]\n",
      " [1. 0.]\n",
      " [1. 0.]\n",
      " [1. 0.]\n",
      " [1. 0.]\n",
      " [1. 0.]\n",
      " [1. 0.]\n",
      " [1. 0.]\n",
      " [1. 0.]\n",
      " [1. 0.]\n",
      " [1. 0.]\n",
      " [1. 0.]\n",
      " [1. 0.]\n",
      " [1. 0.]\n",
      " [1. 0.]\n",
      " [1. 0.]\n",
      " [1. 0.]\n",
      " [1. 0.]\n",
      " [1. 0.]\n",
      " [1. 0.]\n",
      " [1. 0.]\n",
      " [1. 0.]\n",
      " [1. 0.]\n",
      " [1. 0.]\n",
      " [1. 0.]\n",
      " [1. 0.]\n",
      " [1. 0.]\n",
      " [0. 1.]\n",
      " [0. 1.]\n",
      " [0. 1.]\n",
      " [0. 1.]\n",
      " [0. 1.]\n",
      " [0. 1.]\n",
      " [0. 1.]\n",
      " [0. 1.]\n",
      " [0. 1.]\n",
      " [0. 1.]\n",
      " [0. 1.]\n",
      " [0. 1.]\n",
      " [0. 1.]\n",
      " [0. 1.]\n",
      " [0. 1.]\n",
      " [0. 1.]\n",
      " [0. 1.]\n",
      " [0. 1.]\n",
      " [0. 1.]\n",
      " [0. 1.]\n",
      " [0. 1.]\n",
      " [0. 1.]\n",
      " [0. 1.]\n",
      " [0. 1.]\n",
      " [0. 1.]\n",
      " [0. 1.]\n",
      " [0. 1.]\n",
      " [0. 1.]\n",
      " [0. 1.]\n",
      " [0. 1.]\n",
      " [0. 1.]\n",
      " [0. 1.]\n",
      " [0. 1.]\n",
      " [0. 1.]\n",
      " [0. 1.]\n",
      " [0. 1.]\n",
      " [0. 1.]\n",
      " [0. 1.]\n",
      " [0. 1.]]\n"
     ]
    }
   ],
   "source": [
    "# Labelling\n",
    "\n",
    "num_classes = 2\n",
    "num_of_samples = img_data.shape[0]\n",
    "labels = np.ones((num_of_samples,),dtype='int64') \n",
    "\n",
    "labels[0:43]=0  #43 images of dog \n",
    "labels[44:82]=1 #39 images of teddy bear\n",
    "names = ['dog','teddy bear']\n",
    "\n",
    "#one-hot encoding\n",
    "Y = np_utils.to_categorical(labels, num_classes)\n",
    "print(Y)\n"
   ]
  },
  {
   "cell_type": "code",
   "execution_count": 12,
   "metadata": {},
   "outputs": [],
   "source": [
    "#Shuffling the dataset\n",
    "x,y = shuffle(img_data,Y, random_state=2) # random_seed-The seed of the pseudo random number generator\n",
    "# Spliting the dataset\n",
    "X_train, X_test, y_train, y_test = train_test_split(x, y, test_size=0.2, random_state=2)\n",
    "#test_size- represent the proportion of the dataset to include in the test split"
   ]
  },
  {
   "cell_type": "code",
   "execution_count": 13,
   "metadata": {},
   "outputs": [
    {
     "data": {
      "text/plain": [
       "((65, 1, 128, 128), (65, 2))"
      ]
     },
     "execution_count": 13,
     "metadata": {},
     "output_type": "execute_result"
    }
   ],
   "source": [
    "X_train.shape, y_train.shape"
   ]
  },
  {
   "cell_type": "code",
   "execution_count": 14,
   "metadata": {},
   "outputs": [
    {
     "data": {
      "text/plain": [
       "((65, 2), (17, 2))"
      ]
     },
     "execution_count": 14,
     "metadata": {},
     "output_type": "execute_result"
    }
   ],
   "source": [
    "y_train.shape, y_test.shape"
   ]
  },
  {
   "cell_type": "code",
   "execution_count": 15,
   "metadata": {},
   "outputs": [
    {
     "name": "stdout",
     "output_type": "stream",
     "text": [
      "(1, 128, 128)\n"
     ]
    }
   ],
   "source": [
    "input_shape=img_data[0].shape\n",
    "print(input_shape)"
   ]
  },
  {
   "cell_type": "code",
   "execution_count": 16,
   "metadata": {},
   "outputs": [
    {
     "name": "stderr",
     "output_type": "stream",
     "text": [
      "C:\\Users\\Sarth\\AppData\\Local\\conda\\conda\\envs\\tensorflow\\lib\\site-packages\\ipykernel_launcher.py:6: UserWarning: Update your `Conv2D` call to the Keras 2 API: `Conv2D(32, (3, 3), padding=\"same\", input_shape=(1, 128, 1...)`\n",
      "  \n",
      "C:\\Users\\Sarth\\AppData\\Local\\conda\\conda\\envs\\tensorflow\\lib\\site-packages\\ipykernel_launcher.py:8: UserWarning: Update your `Conv2D` call to the Keras 2 API: `Conv2D(32, (3, 3))`\n",
      "  \n",
      "C:\\Users\\Sarth\\AppData\\Local\\conda\\conda\\envs\\tensorflow\\lib\\site-packages\\ipykernel_launcher.py:13: UserWarning: Update your `Conv2D` call to the Keras 2 API: `Conv2D(64, (3, 3))`\n",
      "  del sys.path[0]\n"
     ]
    }
   ],
   "source": [
    "# Defining the model\n",
    "input_shape=img_data[0].shape\n",
    "\n",
    "model = Sequential()\n",
    "\n",
    "model.add(Convolution2D(32, 3,3,border_mode='same',input_shape=input_shape))\n",
    "model.add(Activation('relu'))\n",
    "model.add(Convolution2D(32, 3, 3))\n",
    "model.add(Activation('relu'))\n",
    "model.add(MaxPooling2D(pool_size=(2, 2)))\n",
    "model.add(Dropout(0.5))\n",
    "\n",
    "model.add(Convolution2D(64, 3, 3))\n",
    "model.add(Activation('relu'))\n",
    "#model.add(Convolution2D(64, 3, 3))\n",
    "#model.add(Activation('relu'))\n",
    "model.add(MaxPooling2D(pool_size=(2, 2)))\n",
    "model.add(Dropout(0.5))\n",
    "\n",
    "model.add(Flatten())\n",
    "model.add(Dense(64))\n",
    "model.add(Activation('relu'))\n",
    "model.add(Dropout(0.5))\n",
    "model.add(Dense(num_classes))\n",
    "model.add(Activation('softmax'))\n",
    "\n",
    "model.compile(loss='categorical_crossentropy', optimizer='rmsprop',metrics=[\"accuracy\"])"
   ]
  },
  {
   "cell_type": "code",
   "execution_count": 17,
   "metadata": {},
   "outputs": [
    {
     "name": "stderr",
     "output_type": "stream",
     "text": [
      "C:\\Users\\Sarth\\AppData\\Local\\conda\\conda\\envs\\tensorflow\\lib\\site-packages\\ipykernel_launcher.py:2: UserWarning: The `nb_epoch` argument in `fit` has been renamed `epochs`.\n",
      "  \n"
     ]
    },
    {
     "name": "stdout",
     "output_type": "stream",
     "text": [
      "Train on 65 samples, validate on 17 samples\n",
      "Epoch 1/12\n",
      "65/65 [==============================] - 13s 199ms/step - loss: 6.2717 - acc: 0.5077 - val_loss: 0.7972 - val_acc: 0.4706\n",
      "Epoch 2/12\n",
      "65/65 [==============================] - 11s 174ms/step - loss: 1.2418 - acc: 0.5077 - val_loss: 0.7993 - val_acc: 0.4706\n",
      "Epoch 3/12\n",
      "65/65 [==============================] - 12s 179ms/step - loss: 0.9569 - acc: 0.4923 - val_loss: 0.7005 - val_acc: 0.4706\n",
      "Epoch 4/12\n",
      "65/65 [==============================] - 12s 180ms/step - loss: 0.7185 - acc: 0.4923 - val_loss: 0.6956 - val_acc: 0.4706\n",
      "Epoch 5/12\n",
      "65/65 [==============================] - 12s 188ms/step - loss: 0.6846 - acc: 0.5077 - val_loss: 0.6910 - val_acc: 0.4706\n",
      "Epoch 6/12\n",
      "65/65 [==============================] - 12s 184ms/step - loss: 0.6837 - acc: 0.6000 - val_loss: 0.6794 - val_acc: 0.5882\n",
      "Epoch 7/12\n",
      "65/65 [==============================] - 12s 185ms/step - loss: 0.6714 - acc: 0.6308 - val_loss: 1.7554 - val_acc: 0.4706\n",
      "Epoch 8/12\n",
      "65/65 [==============================] - 12s 182ms/step - loss: 1.2030 - acc: 0.5692 - val_loss: 0.6374 - val_acc: 0.5294\n",
      "Epoch 9/12\n",
      "65/65 [==============================] - 12s 190ms/step - loss: 0.6518 - acc: 0.6308 - val_loss: 0.5891 - val_acc: 0.5294\n",
      "Epoch 10/12\n",
      "65/65 [==============================] - 12s 186ms/step - loss: 0.6471 - acc: 0.6615 - val_loss: 0.6219 - val_acc: 0.8235\n",
      "Epoch 11/12\n",
      "65/65 [==============================] - 12s 190ms/step - loss: 0.5303 - acc: 0.8154 - val_loss: 0.3998 - val_acc: 0.8824\n",
      "Epoch 12/12\n",
      "65/65 [==============================] - 12s 187ms/step - loss: 0.5421 - acc: 0.7846 - val_loss: 0.5344 - val_acc: 0.7059\n"
     ]
    }
   ],
   "source": [
    "# Training\n",
    "hist = model.fit(X_train, y_train, batch_size=16, nb_epoch=12, verbose=1, validation_data=(X_test, y_test))\n",
    "# nb_epoch - iterations for training the model\n"
   ]
  },
  {
   "cell_type": "code",
   "execution_count": null,
   "metadata": {},
   "outputs": [],
   "source": []
  },
  {
   "cell_type": "code",
   "execution_count": 18,
   "metadata": {},
   "outputs": [
    {
     "data": {
      "image/png": "[encoded data removed]",
      "text/plain": [
       "<Figure size 504x360 with 1 Axes>"
      ]
     },
     "metadata": {},
     "output_type": "display_data"
    },
    {
     "data": {
      "image/png": "[encoded data removed]",
      "text/plain": [
       "<Figure size 560x400 with 1 Axes>"
      ]
     },
     "metadata": {},
     "output_type": "display_data"
    }
   ],
   "source": [
    "# visualizing losses and accuracy\n",
    "train_loss=hist.history['loss']\n",
    "val_loss=hist.history['val_loss']\n",
    "train_acc=hist.history['acc']\n",
    "val_acc=hist.history['val_acc']\n",
    "xc=range(12) # no. of epochs\n",
    "\n",
    "#plot loss vs no. of epochs\n",
    "plt.figure(1,figsize=(7,5))\n",
    "plt.plot(xc,train_loss)\n",
    "plt.plot(xc,val_loss)\n",
    "plt.xlabel('num of Epochs')\n",
    "plt.ylabel('loss')\n",
    "plt.title('train and val loss vs no. of epochs')\n",
    "plt.grid(True)\n",
    "plt.legend(['train','val'])\n",
    "plt.style.use(['classic'])\n",
    "#plot accuracy vs no.   of e\n",
    "plt.figure(2,figsize=(7,5))\n",
    "plt.plot(xc,train_acc)\n",
    "plt.plot(xc,val_acc)\n",
    "plt.xlabel('num of Epochs')\n",
    "plt.ylabel('accuracy')\n",
    "plt.title('train and val accuracy vs no. of epochs')\n",
    "plt.grid(True)\n",
    "plt.legend(['train','val'],loc=4)\n",
    "#print plt.style.available # use bmh, classic,ggplot for big pictures\n",
    "plt.style.use(['classic'])\n"
   ]
  },
  {
   "cell_type": "code",
   "execution_count": 19,
   "metadata": {},
   "outputs": [
    {
     "name": "stdout",
     "output_type": "stream",
     "text": [
      "Test Loss: 0.5344176292419434\n",
      "Test accuracy: 0.7058823704719543\n"
     ]
    }
   ],
   "source": [
    "# model Eavluation\n",
    "\n",
    "score = model.evaluate(X_test, y_test,verbose=0)\n",
    "print('Test Loss:', score[0])\n",
    "print('Test accuracy:', score[1])"
   ]
  },
  {
   "cell_type": "code",
   "execution_count": null,
   "metadata": {},
   "outputs": [],
   "source": []
  },
  {
   "cell_type": "code",
   "execution_count": 20,
   "metadata": {},
   "outputs": [
    {
     "name": "stdout",
     "output_type": "stream",
     "text": [
      "(128, 128)\n",
      "(1, 1, 128, 128)\n",
      "[[0.33006218 0.6699378 ]]\n",
      "It's a teddy bear\n"
     ]
    }
   ],
   "source": [
    "# Testing\n",
    "test_image = cv2.imread('tb5rr.jpg')\n",
    "test_image=cv2.cvtColor(test_image, cv2.COLOR_BGR2GRAY)\n",
    "test_image=cv2.resize(test_image,(128,128))\n",
    "test_image = np.array(test_image)\n",
    "test_image = test_image.astype('float32')\n",
    "test_image /= 255\n",
    "print (test_image.shape)\n",
    " \n",
    "if K.image_dim_ordering()=='th':\n",
    "    test_image= np.expand_dims(test_image, axis=0) \n",
    "    test_image= np.expand_dims(test_image, axis=0)\n",
    "    print (test_image.shape)\n",
    "else:\n",
    "    test_image= np.expand_dims(test_image, axis=3) \n",
    "    test_image= np.expand_dims(test_image, axis=0)\n",
    "    print (test_image.shape)\n",
    "    \n",
    "# Predicting the test image\n",
    "print((model.predict(test_image)))\n",
    "if model.predict_classes(test_image)==0:\n",
    "    print(\"It's a dog\")\n",
    "else:\n",
    "    print(\"It's a teddy bear\")"
   ]
  },
  {
   "cell_type": "code",
   "execution_count": null,
   "metadata": {},
   "outputs": [],
   "source": []
  },
  {
   "cell_type": "code",
   "execution_count": 22,
   "metadata": {},
   "outputs": [],
   "source": [
    "#Saving the model\n",
    "from keras.models import model_from_json\n",
    "from keras.models import load_model\n",
    "model.save('model_2.hdf5')\n"
   ]
  },
  {
   "cell_type": "code",
   "execution_count": null,
   "metadata": {},
   "outputs": [],
   "source": [
    "#loading the model\n",
    "loaded_model=load_model('model_2.hdf5')"
   ]
  },
  {
   "cell_type": "code",
   "execution_count": 24,
   "metadata": {},
   "outputs": [
    {
     "name": "stdout",
     "output_type": "stream",
     "text": [
      "[[0.33006218 0.6699378 ]]\n",
      "It's a teddy bear\n"
     ]
    }
   ],
   "source": [
    "print((loaded_model.predict(test_image)))\n",
    "if loaded_model.predict_classes(test_image)==0:\n",
    "    print(\"It's a dog\")\n",
    "else:\n",
    "    print(\"It's a teddy bear\")"
   ]
  }
 ],
 "metadata": {
  "kernelspec": {
   "display_name": "Python 3",
   "language": "python",
   "name": "python3"
  },
  "language_info": {
   "codemirror_mode": {
    "name": "ipython",
    "version": 3
   },
   "file_extension": ".py",
   "mimetype": "text/x-python",
   "name": "python",
   "nbconvert_exporter": "python",
   "pygments_lexer": "ipython3",
   "version": "3.5.4"
  }
 },
 "nbformat": 4,
 "nbformat_minor": 2
}
